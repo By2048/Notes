{
 "cells": [
  {
   "cell_type": "code",
   "execution_count": null,
   "metadata": {
    "collapsed": true
   },
   "outputs": [
    {
     "name": "stdout",
     "output_type": "stream",
     "text": [
      "Amrzs\n() {}\ninner\nfun\n"
     ]
    }
   ],
   "source": [
    "# 自定义的修饰器.\n",
    "# 一个不带参数的装饰器:\n",
    "def decorator(fun):\n",
    "    print('decorator fun')\n",
    "    return fun\n",
    "\n",
    "@decorator\n",
    "def fun():\n",
    "    print('fun')\n",
    "\n",
    "fun()\n",
    "\n",
    "print('-' * 100)\n",
    "\n",
    "# 上面这段代码就等于下面的实现:\n",
    "def fun():\n",
    "    print('fun')\n",
    "decorator(fun)()\n"
   ]
  },
  {
   "cell_type": "code",
   "execution_count": 21,
   "metadata": {
    "collapsed": true
   },
   "outputs": [
    {
     "name": "stdout",
     "output_type": "stream",
     "text": [
      "Amrzs\n() {}\ninner\nfun\n"
     ]
    }
   ],
   "source": [
    "def test_decorator(name):\n",
    "    print(name)\n",
    "    def decorator(function):\n",
    "        def inner(*args, **kwargs):\n",
    "            print(args, kwargs)\n",
    "            print('inner')\n",
    "            function(*args, **kwargs)\n",
    "        return inner\n",
    "    return decorator\n",
    "\n",
    "# 而带有参数的装饰器\n",
    "@test_decorator('Amrzs')\n",
    "def fun():\n",
    "    print('fun')\n",
    "\n",
    "fun()\n",
    "\n",
    "# # 这段代码就等于下面的实现:\n",
    "# fun = decorator('Amrzs')(func)\n"
   ]
  },
  {
   "cell_type": "code",
   "execution_count": 1,
   "metadata": {
    "collapsed": false
   },
   "outputs": [
    {
     "name": "stdout",
     "output_type": "stream",
     "text": [
      "0 4 False\n1 test\n2 (123, 'qwe') {}\n3 {\n    \"status\": \"done\"\n}\n"
     ]
    }
   ],
   "source": [
    "import json\n",
    "import functools\n",
    "\n",
    "def json_output(indent=None, sort_keys=False):\n",
    "    print(0, indent, sort_keys)\n",
    "    def decorator(function):\n",
    "        @functools.wraps(function)\n",
    "        def inner(*args, **kwargs):\n",
    "            print(1, function.__name__)\n",
    "            print(2, args, kwargs)\n",
    "            result = function(*args, **kwargs)\n",
    "            return json.dumps(result, indent=indent, sort_keys=sort_keys)\n",
    "\n",
    "        return inner\n",
    "\n",
    "    return decorator\n",
    "\n",
    "\n",
    "@json_output(indent=4)\n",
    "def test(name, sex):\n",
    "    return {'status': 'done'}\n",
    "\n",
    "\n",
    "print(3, test(123, 'qwe'))\n"
   ]
  },
  {
   "cell_type": "code",
   "execution_count": 3,
   "metadata": {},
   "outputs": [
    {
     "name": "stdout",
     "output_type": "stream",
     "text": [
      "1 (1, 2, 3)\n2 inner\n3 test\n"
     ]
    }
   ],
   "source": [
    "# 类的装饰器\n",
    "\n",
    "def test_decorator(*args):\n",
    "    print(1, args)\n",
    "    def decorator(function):\n",
    "        def inner(self):\n",
    "            print(2, 'inner')\n",
    "            function(self)\n",
    "        return inner\n",
    "    return decorator\n",
    "\n",
    "class A(object):\n",
    "    @test_decorator(1, 2, 3)\n",
    "    def test(self):\n",
    "        print(3, 'test')\n",
    "\n",
    "\n",
    "a = A()\n",
    "a.test()\n"
   ]
  },
  {
   "cell_type": "code",
   "execution_count": 1,
   "metadata": {},
   "outputs": [
    {
     "name": "stdout",
     "output_type": "stream",
     "text": [
      "0 4 False\n2 (123, 'qwe') {}\n3 None\n"
     ]
    }
   ],
   "source": [
    "def json_output(indent=None, sort_keys=False):\n",
    "    # 处理装饰器参数\n",
    "    print(0, indent, sort_keys)\n",
    "\n",
    "    def a(f):\n",
    "        # 处理函数\n",
    "        def b(*args, **kwargs):\n",
    "            # 处理参数\n",
    "            print(2, args, kwargs)\n",
    "            f(*args, **kwargs)\n",
    "        return b\n",
    "    return a\n",
    "\n",
    "@json_output(indent=4)\n",
    "def test(name='qwe', value=123):\n",
    "    return {'status': 'done'}\n",
    "\n",
    "\n",
    "print(3, test(123, 'qwe'))\n"
   ]
  },
  {
   "cell_type": "code",
   "execution_count": null,
   "metadata": {},
   "outputs": [],
   "source": []
  }
 ],
 "metadata": {
  "kernelspec": {
   "display_name": "Python 2",
   "language": "python",
   "name": "python2"
  },
  "language_info": {
   "codemirror_mode": {
    "name": "ipython",
    "version": 2
   },
   "file_extension": ".py",
   "mimetype": "text/x-python",
   "name": "python",
   "nbconvert_exporter": "python",
   "pygments_lexer": "ipython2",
   "version": "2.7.6"
  }
 },
 "nbformat": 4,
 "nbformat_minor": 0
}
