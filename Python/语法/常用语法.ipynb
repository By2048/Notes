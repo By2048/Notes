{
 "cells": [
  {
   "cell_type": "code",
   "execution_count": 10,
   "metadata": {},
   "outputs": [
    {
     "name": "stdout",
     "output_type": "stream",
     "text": [
      "case_1 args 1\n",
      "case_2 args 2\n",
      "case_3 args 3\n"
     ]
    }
   ],
   "source": [
    "def case_1(args):\n",
    "    print(\"case_1\", args)\n",
    "\n",
    "\n",
    "def case_2(args):\n",
    "    print(\"case_2\", args)\n",
    "\n",
    "\n",
    "def case_3(args):\n",
    "    print(\"case_3\", args)\n",
    "\n",
    "\n",
    "switch = {1: case_1, 2: case_2, 3: case_3}\n",
    "\n",
    "for i in range(1, 4):\n",
    "    switch[i](\"args \" + str(i))"
   ]
  }
 ],
 "metadata": {
  "kernelspec": {
   "display_name": "Python 3",
   "language": "python",
   "name": "python3"
  },
  "language_info": {
   "codemirror_mode": {
    "name": "ipython",
    "version": 3
   },
   "file_extension": ".py",
   "mimetype": "text/x-python",
   "name": "python",
   "nbconvert_exporter": "python",
   "pygments_lexer": "ipython3",
   "version": "3.7.0"
  }
 },
 "nbformat": 4,
 "nbformat_minor": 2
}
