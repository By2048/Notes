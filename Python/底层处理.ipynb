{
 "cells": [
  {
   "cell_type": "code",
   "execution_count": 41,
   "metadata": {},
   "outputs": [],
   "source": [
    "# 直接赋值：其实就是对象的引用（别名）\n",
    "# 浅拷贝(copy)：拷贝父对象，不会拷贝对象的内部的子对象\n",
    "# 深拷贝(deepcopy)： copy 模块的 deepcopy 方法，完全拷贝了父对象及其子对象\n",
    "# \n",
    "# b = a: 赋值引用，a 和 b 都指向同一个对象\n",
    "# b = a.copy(): 浅拷贝, a 和 b 是一个独立的对象，但他们的子对象还是指向统一对象（是引用）\n",
    "# b = copy.deepcopy(a): 深度拷贝, a 和 b 完全拷贝了父对象及其子对象，两者是完全独立的\n"
   ]
  },
  {
   "cell_type": "code",
   "execution_count": 26,
   "metadata": {},
   "outputs": [
    {
     "name": "stdout",
     "output_type": "stream",
     "text": [
      "a={'key': [1, 2]}\nb={'key': [1, 2]}\n\na={'key': [1, 2, 3]}\nb={'key': [1, 2]}\n"
     ]
    }
   ],
   "source": [
    "a = [1, 2, ['a', 'b']]\n",
    "b = a  #赋值，传对象的引用\n",
    "\n",
    "print('a={}\\nb={}\\n'.format(a, b))\n"
   ]
  },
  {
   "cell_type": "code",
   "execution_count": 31,
   "metadata": {
    "collapsed": true
   },
   "outputs": [
    {
     "name": "stdout",
     "output_type": "stream",
     "text": [
      "a={'key': [1, 2]}\nb={'key': [1, 2]}\nc={'key': [1, 2]}\n\na={'key': [1, 2, 4]}\nb={'key': [1, 2, 4]}\nc={'key': [1, 2, 4]}\n"
     ]
    }
   ],
   "source": [
    "import copy\n",
    "\n",
    "a = {'key': [1, 2]}\n",
    "b = a.copy()\n",
    "c = copy.copy(a)\n",
    "\n",
    "print('a={}\\nb={}\\nc={}\\n'.format(a, b, c))\n",
    "\n",
    "a['key'].append(4)\n",
    "\n",
    "print('a={}\\nb={}\\nc={}'.format(a, b, c))\n"
   ]
  },
  {
   "cell_type": "code",
   "execution_count": null,
   "metadata": {},
   "outputs": [
    {
     "name": "stdout",
     "output_type": "stream",
     "text": [
      "a={'key': [1, 2]}\nb={'key': [1, 2]}\n\na={'key': [1, 2, 3]}\nb={'key': [1, 2]}\n"
     ]
    }
   ],
   "source": [
    "import copy\n",
    "\n",
    "a = {'key': [1, 2]}\n",
    "b = copy.copy(a)  #对象拷贝，浅拷贝\n",
    "c = a.copy()\n",
    "\n",
    "print('a={}\\nb={}\\nc={}\\n'.format(a, b, c))\n",
    "\n",
    "a['key'].append(3)\n",
    "\n",
    "print('a={}\\nb={}\\nc={}'.format(a, b, c))\n"
   ]
  },
  {
   "cell_type": "code",
   "execution_count": 39,
   "metadata": {},
   "outputs": [
    {
     "name": "stdout",
     "output_type": "stream",
     "text": [
      "a={'key': [1, 2]}\nb={'key': [1, 2]}\n\na={'key': [1, 2, 3]}\nb={'key': [1, 2]}\n"
     ]
    }
   ],
   "source": [
    "import copy\n",
    "\n",
    "a = {'key': [1, 2]}\n",
    "b = copy.deepcopy(a)\n",
    "\n",
    "print('a={}\\nb={}\\n'.format(a, b))\n",
    "\n",
    "a['key'].append(3)\n",
    "\n",
    "print('a={}\\nb={}'.format(a, b))\n"
   ]
  },
  {
   "cell_type": "code",
   "execution_count": 44,
   "metadata": {},
   "outputs": [
    {
     "name": "stdout",
     "output_type": "stream",
     "text": [
      "a=[1, 2, ['a', 'b']]\nb=[1, 2, ['a', 'b']]\nc=[1, 2, ['a', 'b']]\nd=[1, 2, ['a', 'b']]\n\na=[1, 2, ['a', 'b', 'c'], 3]\nb=[1, 2, ['a', 'b', 'c'], 3]\nc=[1, 2, ['a', 'b', 'c']]\nd=[1, 2, ['a', 'b']]\n\n"
     ]
    }
   ],
   "source": [
    "import copy\n",
    "\n",
    "a = [1, 2, ['a', 'b']]  #原始对象\n",
    "b = a  #赋值，传对象的引用\n",
    "c = copy.copy(a)  #对象拷贝，浅拷贝\n",
    "d = copy.deepcopy(a)  #对象拷贝，深拷贝\n",
    "\n",
    "print('a={}\\nb={}\\nc={}\\nd={}\\n'.format(a, b, c, d))\n",
    "\n",
    "a.append(3)  #修改对象a\n",
    "a[2].append('c')  #修改对象a中的['a', 'b']数组对象\n",
    "\n",
    "print('a={}\\nb={}\\nc={}\\nd={}\\n'.format(a, b, c, d))\n"
   ]
  },
  {
   "cell_type": "code",
   "execution_count": null,
   "metadata": {},
   "outputs": [],
   "source": []
  }
 ],
 "metadata": {
  "kernelspec": {
   "display_name": "Python 2",
   "language": "python",
   "name": "python2"
  },
  "language_info": {
   "codemirror_mode": {
    "name": "ipython",
    "version": 2
   },
   "file_extension": ".py",
   "mimetype": "text/x-python",
   "name": "python",
   "nbconvert_exporter": "python",
   "pygments_lexer": "ipython2",
   "version": "2.7.6"
  }
 },
 "nbformat": 4,
 "nbformat_minor": 0
}
