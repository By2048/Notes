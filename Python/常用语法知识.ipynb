{
 "cells": [
  {
   "cell_type": "code",
   "execution_count": 6,
   "metadata": {},
   "outputs": [],
   "source": [
    "import logging\n",
    "import pprint\n",
    "import json\n"
   ]
  },
  {
   "cell_type": "code",
   "execution_count": 7,
   "metadata": {
    "collapsed": false
   },
   "outputs": [
    {
     "data": {
      "text/plain": [
       "'1 q 2 w 3'"
      ]
     },
     "execution_count": 7,
     "metadata": {},
     "output_type": "execute_result"
    }
   ],
   "source": [
    "fmt = '%s q %s w %s'\n",
    "data = ['1', '2', '3']\n",
    "fmt % tuple(data)"
   ]
  },
  {
   "cell_type": "code",
   "execution_count": 44,
   "metadata": {},
   "outputs": [
    {
     "name": "stdout",
     "output_type": "stream",
     "text": [
      "1 1 q 2 w 3 e\n2                1                  2    3    4    5\n"
     ]
    }
   ],
   "source": [
    "fmt = '{0} q {1} w {2} e'\n",
    "data = ['1', '2', '3']\n",
    "print(1, fmt.format(*data))\n",
    "\n",
    "fmt = \"{:>16}   {:>16}   {:>2}   {:>2}   {:>2}\"\n",
    "data = [1, 2, 3, 4, 5]\n",
    "print(2, fmt.format(*data))\n",
    "\n",
    "print(3, '{{{}}}'.format('12312'))\n"
   ]
  },
  {
   "cell_type": "code",
   "execution_count": 9,
   "metadata": {},
   "outputs": [
    {
     "name": "stderr",
     "output_type": "stream",
     "text": [
      "ERROR:root:division by zero\n"
     ]
    }
   ],
   "source": [
    "try:\n",
    "    1/0\n",
    "except ZeroDivisionError as e:\n",
    "    logging.error(e) "
   ]
  },
  {
   "cell_type": "code",
   "execution_count": 10,
   "metadata": {},
   "outputs": [
    {
     "name": "stderr",
     "output_type": "stream",
     "text": [
      "ERROR:root:message info\nTraceback (most recent call last):\n  File \"<ipython-input-10-c200422c64e9>\", line 2, in <module>\n    1/0\nZeroDivisionError: division by zero\n"
     ]
    }
   ],
   "source": [
    "try:\n",
    "    1/0\n",
    "except ZeroDivisionError as e:\n",
    "    logging.exception(\"message info\")"
   ]
  },
  {
   "cell_type": "code",
   "execution_count": 11,
   "metadata": {},
   "outputs": [
    {
     "name": "stderr",
     "output_type": "stream",
     "text": [
      "ERROR:root:message info\nTraceback (most recent call last):\n  File \"<ipython-input-11-8ee9f180545c>\", line 2, in <module>\n    1/0\nZeroDivisionError: division by zero\n"
     ]
    }
   ],
   "source": [
    "try:\n",
    "    1/0\n",
    "except ZeroDivisionError:\n",
    "    logging.exception(\"message info\")"
   ]
  },
  {
   "cell_type": "code",
   "execution_count": 45,
   "metadata": {},
   "outputs": [
    {
     "name": "stderr",
     "output_type": "stream",
     "text": [
      "ERROR:root:[ZeroDivisionError('division by zero'), '12321', '321312']\nTraceback (most recent call last):\n  File \"<ipython-input-45-083403f224bf>\", line 4, in <module>\n    1 / 0\nZeroDivisionError: division by zero\n"
     ]
    }
   ],
   "source": [
    "import logging\n",
    "\n",
    "try:\n",
    "    1 / 0\n",
    "except ZeroDivisionError as e:\n",
    "    # logging.exception(\"message\")\n",
    "    # logging.getLogger('').exception(\"message\")\n",
    "    # logging.exception(e)\n",
    "    logging.getLogger('').exception([e, '12321', '321312'])\n",
    "    "
   ]
  },
  {
   "cell_type": "code",
   "execution_count": 12,
   "metadata": {},
   "outputs": [
    {
     "data": {
      "text/plain": [
       "'abcde'"
      ]
     },
     "execution_count": 12,
     "metadata": {},
     "output_type": "execute_result"
    }
   ],
   "source": [
    "  b\"abcde\".decode(\"utf-8\")"
   ]
  },
  {
   "cell_type": "code",
   "execution_count": 13,
   "metadata": {},
   "outputs": [],
   "source": [
    "#!/usr/bin/env python\n",
    "__author__ = \"Rob Knight, Gavin Huttley, and Peter Maxwell\"\n",
    "__copyright__ = \"Copyright 2007, The Cogent Project\"\n",
    "__credits__ = [\"Rob Knight\", \"Peter Maxwell\", \"Gavin Huttley\",\n",
    "                    \"Matthew Wakefield\"]\n",
    "__license__ = \"GPL\"\n",
    "__version__ = \"1.0.1\"\n",
    "__maintainer__ = \"Rob Knight\"\n",
    "__email__ = \"rob@spot.colorado.edu\"\n",
    "__status__ = \"Production\""
   ]
  },
  {
   "cell_type": "code",
   "execution_count": 14,
   "metadata": {},
   "outputs": [],
   "source": [
    "x = []   # type: List[float]\n",
    "x, y, z = [], [], []  # type: List[int], List[int], List[str]\n",
    "x, y, z = [], [], []  # type: (List[int], List[int], List[str])"
   ]
  },
  {
   "cell_type": "code",
   "execution_count": 15,
   "metadata": {},
   "outputs": [
    {
     "data": {
      "text/plain": [
       "{'b': int, 'c': 'The default value is 5', 'return': float}"
      ]
     },
     "execution_count": 15,
     "metadata": {},
     "output_type": "execute_result"
    }
   ],
   "source": [
    "def sum(a, b: int, c: 'The default value is 5' = 5) -> float:\n",
    "    return a + b + c\n",
    "\n",
    "sum.__annotations__\n"
   ]
  },
  {
   "cell_type": "code",
   "execution_count": 16,
   "metadata": {},
   "outputs": [
    {
     "data": {
      "text/plain": [
       "{'a': {'help': 'the dividend', 'type': float},\n 'b': {'help': 'the divisor (must be different than 0)', 'type': float},\n 'return': {'help': 'the result of dividing a by b', 'type': float}}"
      ]
     },
     "execution_count": 16,
     "metadata": {},
     "output_type": "execute_result"
    }
   ],
   "source": [
    "# 多个注释\n",
    "def div(a: dict(type=float, help='the dividend'),\n",
    "        b: dict(type=float, help='the divisor (must be different than 0)')\n",
    "        ) -> dict(type=float, help='the result of dividing a by b'):\n",
    "    \"\"\"Divide a by b\"\"\"\n",
    "    return a / b\n",
    "div.__annotations__\n"
   ]
  },
  {
   "cell_type": "code",
   "execution_count": 17,
   "metadata": {},
   "outputs": [
    {
     "name": "stdout",
     "output_type": "stream",
     "text": [
      "0\n3\n10\n"
     ]
    }
   ],
   "source": [
    "# 动态注释\n",
    "def sum(a, b) -> 0:\n",
    "    result = a + b\n",
    "    sum.__annotations__['return'] += result\n",
    "    return result\n",
    "\n",
    "print(sum.__annotations__['return'])\n",
    "\n",
    "sum(1, 2)\n",
    "print(sum.__annotations__['return'])\n",
    "\n",
    "sum(3, 4)\n",
    "print(sum.__annotations__['return'])\n"
   ]
  },
  {
   "cell_type": "code",
   "execution_count": null,
   "metadata": {},
   "outputs": [],
   "source": [
    "# 动态注释\n",
    "def sum(a, b) -> 0:\n",
    "    result = a + b\n",
    "    sum.__annotations__['return'] += result\n",
    "    return result\n",
    "\n",
    "print(sum.__annotations__['return'])\n",
    "\n",
    "sum(1, 2)\n",
    "print(sum.__annotations__['return'])\n",
    "\n",
    "sum(3, 4)\n",
    "print(sum.__annotations__['return'])\n",
    "\n"
   ]
  },
  {
   "cell_type": "code",
   "execution_count": 40,
   "metadata": {
    "collapsed": true
   },
   "outputs": [
    {
     "name": "stdout",
     "output_type": "stream",
     "text": [
      "123\n"
     ]
    }
   ],
   "source": [
    "class A(object):\n",
    "    def default(self, a):\n",
    "        print('no')\n",
    "\n",
    "    def run_1(self, a):\n",
    "        print(a)\n",
    "\n",
    "    def run_2(self, a):\n",
    "        print(a)\n",
    "\n",
    "    def run_3(self, a):\n",
    "        print(a)\n",
    "\n",
    "    def main(self, _type, _data):\n",
    "        run_type = {\n",
    "            \"1\": \"run_1\",\n",
    "            \"2\": \"run_2\",\n",
    "            \"3\": \"run_3\",\n",
    "            \"default\": \"default\"\n",
    "        }\n",
    "        getattr(self, run_type.get(_type, \"default\"))(_data)\n",
    "\n",
    "\n",
    "a = A()\n",
    "a.main('1', '123')\n"
   ]
  },
  {
   "cell_type": "code",
   "execution_count": 41,
   "metadata": {},
   "outputs": [
    {
     "name": "stdout",
     "output_type": "stream",
     "text": [
      "1234\n"
     ]
    }
   ],
   "source": [
    "def default(a):\n",
    "    print('no')\n",
    "\n",
    "def run_1(a):\n",
    "    print(a)\n",
    "\n",
    "def run_2(a):\n",
    "    print(a)\n",
    "\n",
    "def run_3(a):\n",
    "    print(a)\n",
    "\n",
    "\n",
    "def main(_type, _data):\n",
    "    run_type = {\n",
    "        \"1\": run_1,\n",
    "        \"2\": run_2,\n",
    "        \"3\": run_3,\n",
    "        \"default\": default\n",
    "    }\n",
    "    run_type.get(_type)(_data)\n",
    "\n",
    "main('1', '1234')\n"
   ]
  },
  {
   "cell_type": "code",
   "execution_count": 43,
   "metadata": {
    "collapsed": true
   },
   "outputs": [
    {
     "data": {
      "text/plain": [
       "'{1234}'"
      ]
     },
     "execution_count": 43,
     "metadata": {},
     "output_type": "execute_result"
    }
   ],
   "source": [
    "'{{{}}}'.format('1234')"
   ]
  }
 ],
 "metadata": {
  "kernelspec": {
   "display_name": "Python 2",
   "language": "python",
   "name": "python2"
  },
  "language_info": {
   "codemirror_mode": {
    "name": "ipython",
    "version": 2
   },
   "file_extension": ".py",
   "mimetype": "text/x-python",
   "name": "python",
   "nbconvert_exporter": "python",
   "pygments_lexer": "ipython2",
   "version": "2.7.6"
  }
 },
 "nbformat": 4,
 "nbformat_minor": 0
}
